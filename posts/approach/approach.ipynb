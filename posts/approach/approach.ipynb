{
 "cells": [
  {
   "cell_type": "raw",
   "id": "9897d191-8da8-421b-aefc-374dd34db517",
   "metadata": {},
   "source": [
    "---\n",
    "title: On the Limits of the Quantitative Approach to Bias and Fairness\n",
    "author: Finn Ellingwood\n",
    "date: '2023-05-19'\n",
    "image: \"fair.png\"\n",
    "description: \"Finn's response and exploration of the ideas proposed by Arvind Narayanan surrounding fairness and bias.\"\n",
    "format: html\n",
    "bibliography: refs.bib\n",
    "---"
   ]
  },
  {
   "cell_type": "markdown",
   "id": "390312db-0d74-4986-ba24-ebc71b5829a6",
   "metadata": {},
   "source": [
    "### “...currently quantitative methods are primarily used to justify the status quo. I would argue that they do more harm than good.”\n",
    "— @narayanan2022limits"
   ]
  },
  {
   "cell_type": "markdown",
   "id": "7dc5683b-34e1-4c39-9d6d-f213526b7ec8",
   "metadata": {},
   "source": [
    "## Introduction"
   ]
  },
  {
   "cell_type": "markdown",
   "id": "9e37bdcc-0ce2-4c0e-beb7-cc12c5d72516",
   "metadata": {},
   "source": [
    "The use of quantitative methods for assessing discrimination and bias has gained increasing attention in recent years. While some scholars argue that quantitative methods are effective in identifying and addressing discrimination, others, like @narayanan2022limits, contend that they serve to justify the status quo and do more harm than good. In this essay, I will examine Narayanan's position and engage with a number of scholarly sources to discuss the uses, benefits, and downsides of quantitative methods. I will also present my argument and position on Narayanan's claim."
   ]
  },
  {
   "cell_type": "markdown",
   "id": "0f6d2369-b174-4bdc-bf40-e9f15189f0df",
   "metadata": {},
   "source": [
    "### Narayanan's Position\n",
    "\n",
    "@narayanan2022limits argues that quantitative methods for assessing discrimination and bias are primarily used to justify the status quo, and do more harm than good. He posits that statistical models and algorithms are not neutral, but rather reflect the values and assumptions of their creators. As a result, when quantitative methods are used to study social phenomena, they tend to perpetuate existing power structures and social hierarchies. For instance, machine learning algorithms used in hiring or loan approval processes may be biased against certain groups, reflecting the historical discrimination and inequality that exist in society. According to Narayanan, relying on quantitative methods risks reinforcing these existing power structures, rather than challenging them.\n"
   ]
  },
  {
   "cell_type": "markdown",
   "id": "31f96ca2-28d4-46d7-86ef-89c796c418d7",
   "metadata": {},
   "source": [
    "### The Uses and Benefits of Quantitative Methods\n",
    "\n",
    "While Narayanan argues that quantitative methods do more harm than good, other scholars have identified various uses and benefits of quantitative methods. One benefit is that statistical models and machine learning algorithms can identify and address disparities in healthcare outcomes. @landon2003physician used statistical methods to show that African American patients are less likely to receive appropriate treatment for cardiovascular disease than white patients. They “conclude that important technical barriers stand in the way of using physician clinical performance assessment for evaluating the competency of individual physicians.” This research has led to efforts to address the underlying causes of these disparities, such as unequal access to healthcare and implicit bias among healthcare providers."
   ]
  },
  {
   "cell_type": "markdown",
   "id": "20d2bb0a-b52e-4b45-a3e2-a3cc8c7acc68",
   "metadata": {},
   "source": [
    "Similarly, @pager2008sociology used statistical methods to evaluate the impact of affirmative action policies on employment outcomes. They “provide an overview of major findings from studies of discrimination in each of the four domains [employment, housing, credit markets, and consumer interactions]; and, finally, [they] turn to a discussion of the individual, organizational, and structural mechanisms that may underlie contemporary forms of discrimination.” Their research can help policymakers design more effective policies that promote social justice and reduce discrimination.\n",
    "\n",
    "Additionally, @aylin2017semantics developed methods for auditing machine learning algorithms to identify sources of bias and discrimination, ensuring that algorithms are fair and unbiased. They showed “that applying machine learning to ordinary human language results in human-like semantic biases,” meaning data could be analyzed for bias. Narayanan was actually one of the authors in this paper, which shows how this might have influenced his opinions."
   ]
  },
  {
   "cell_type": "markdown",
   "id": "af34c77d-775a-4e0b-a399-2be42a3efa23",
   "metadata": {},
   "source": [
    "Lastly, @crooks2012intro also suggest that quantitative methods can be used to analyze and understand complex urban systems. They argue that these methods can contribute to the development of more inclusive and sustainable cities, stating that it “is powerful paradigm that holds great promise for facilitating greater understanding of geographical systems.” They suggest that quantitative methods can be combined with qualitative methods to provide a more comprehensive understanding of urban phenomena."
   ]
  },
  {
   "cell_type": "markdown",
   "id": "d503d6b3-f8e6-41fa-964b-d686121d20d1",
   "metadata": {},
   "source": [
    "### More Support"
   ]
  },
  {
   "cell_type": "markdown",
   "id": "857cb9ea-d9da-4c99-8dc3-ecfcf80871db",
   "metadata": {},
   "source": [
    "Diving deeper into their study (@pager2008sociology) on discrimination in hiring, Pager and Shepherd found how affirmative action policies resulted in significant improvements in the employment outcomes of African American and Latino candidates. The policies helped to reduce discrimination in hiring and promote social justice. Similarly, @hasan2020quantitative argues that quantitative methods can be used to promote fairness in algorithmic decision-making. In their research, it had far-reaching concequences in psychiatric patients whose background could be well understood by their model. By defining fairness mathematically and incorporating it into algorithms, we can reduce bias and promote social justice."
   ]
  },
  {
   "cell_type": "markdown",
   "id": "f09da4f0-2b43-46c2-b7da-d3ea52d977df",
   "metadata": {},
   "source": [
    ">In their notable investigation, @dressel2018accuracy scrutinized the accuracy of COMPAS, a widely utilized commercial algorithm employed in the realm of criminal justice decision-making. The study brought to light a troubling revelation: the algorithm exhibited bias against African American defendants, as they were disproportionately categorized as high-risk compared to their white counterparts. This finding not only raises significant concerns about the fairness and equity of the criminal justice system but also underscores the urgent necessity for enhanced transparency and accountability in algorithmic decision-making.\n",
    "\n",
    ">The ramifications of biased algorithms in criminal justice decision-making are profound. The overrepresentation of African American defendants classified as high-risk could potentially lead to harsher sentences, increased pretrial detention, and a perpetuation of existing racial disparities within the system. Such biased outcomes deepen social inequalities and undermine public trust in the fairness of the justice system.\n",
    "\n",
    ">To address these challenges, it is imperative to establish greater transparency in algorithmic decision-making processes. This entails a comprehensive understanding of how algorithms are developed, the data they are trained on, and the potential biases embedded within them. The lack of transparency surrounding proprietary algorithms, like COMPAS, has raised concerns about the potential opacity and inscrutability of these systems.\n",
    "\n",
    ">Accountability is equally crucial. There should be mechanisms in place to assess the performance and impact of algorithms in real-world contexts. This includes conducting regular audits, evaluating the accuracy and fairness of algorithmic outcomes, and addressing any identified biases promptly. Establishing clear guidelines and standards for the use of algorithms in the criminal justice system can help mitigate the potential harm caused by biased decision-making."
   ]
  },
  {
   "cell_type": "markdown",
   "id": "b48e9ae6-3c8e-46dd-aac3-52970b517435",
   "metadata": {},
   "source": [
    "@lamont2002study suggest that quantitative methods can reinforce existing power structures and ideologies. They argue that quantitative methods tend to prioritize \"objective\" and \"scientific\" knowledge, which is often based on dominant cultural assumptions and perspectives. This approach can lead to the exclusion of diverse perspectives and the marginalization of underrepresented groups."
   ]
  },
  {
   "cell_type": "markdown",
   "id": "716b7353-ffd4-4d57-aca6-4063512fa729",
   "metadata": {},
   "source": [
    "Finally, @blodgett2020language argue that quantitative methods can be used to address historical inequalities and promote social justice. They argue that by collecting and analyzing data on the experiences of marginalized groups, we can identify and address systemic inequalities. This approach can help to promote social justice and reduce discrimination."
   ]
  },
  {
   "cell_type": "markdown",
   "id": "0ea78a5a-c575-4e15-ad29-f61176677ac3",
   "metadata": {},
   "source": [
    "### Argument and Position\n",
    "\n",
    "In conclusion, while @narayanan2022limits argues that quantitative methods do more harm than good, the scholarly sources reviewed in this essay demonstrate that quantitative methods can be effective in identifying and addressing discrimination. While there are instances where quantitative methods may serve to justify the status quo and perpetuate existing power structures, they can also be used to promote social justice and reduce discrimination. The key, like for many things in life, is to take into account all factors. This is easier said than done."
   ]
  },
  {
   "cell_type": "markdown",
   "id": "14b233d2-a464-469a-83c8-7a18b18e9307",
   "metadata": {},
   "source": [
    "### Conclusion\n",
    "\n",
    "Narayanan's argument that quantitative methods are primarily used to justify the status quo and do more harm than good is a valid concern. However, it does not mean that quantitative methods should not be used in the analysis of discrimination and bias. Rather, it highlights the need for a critical examination of the way these methods are used and the context in which they are applied.\n",
    "\n",
    "Quantitative methods are a valuable tool in uncovering patterns of discrimination and bias that may be hidden in complex data. As a result, they can be used to hold institutions and individuals accountable for their actions. However, the analysis of discrimination and bias should not be reduced to a simple numbers game, where the goal is to achieve statistical parity. It is important to recognize that discrimination and bias are systemic issues that require a more comprehensive approach.\n",
    "\n",
    "Therefore, it is essential to consider the limitations of quantitative methods and to use them in conjunction with qualitative methods and other forms of analysis to gain a more holistic understanding of the problem. In doing so, we can ensure that we are not only identifying patterns of discrimination and bias but also developing effective strategies to address them.\n",
    "\n",
    "In conclusion, Narayanan's assertion that quantitative methods can do more harm than good is an important reminder that we need to be mindful of the ways in which we use these methods. While quantitative methods can be a valuable tool in uncovering patterns of discrimination and bias, they are not a panacea. To fully understand and address discrimination and bias, we need to take a more comprehensive approach that includes both quantitative and qualitative methods, as well as a critical examination of the social and political contexts in which discrimination and bias occur.\n"
   ]
  },
  {
   "cell_type": "code",
   "execution_count": null,
   "id": "442ffb63-de47-4b95-a3d7-622bfa933caa",
   "metadata": {},
   "outputs": [],
   "source": []
  }
 ],
 "metadata": {
  "kernelspec": {
   "display_name": "Python 3 (ipykernel)",
   "language": "python",
   "name": "python3"
  },
  "language_info": {
   "codemirror_mode": {
    "name": "ipython",
    "version": 3
   },
   "file_extension": ".py",
   "mimetype": "text/x-python",
   "name": "python",
   "nbconvert_exporter": "python",
   "pygments_lexer": "ipython3",
   "version": "3.9.13"
  }
 },
 "nbformat": 4,
 "nbformat_minor": 5
}
