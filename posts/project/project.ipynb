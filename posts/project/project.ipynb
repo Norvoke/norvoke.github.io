{
 "cells": [
  {
   "cell_type": "raw",
   "id": "eef810b1-7aa3-4754-b608-c56461e40fab",
   "metadata": {},
   "source": [
    "---\n",
    "title: A Russian Verb Classification Model trained on the Russian Open Corpora dataset\n",
    "author: Finn Ellingwood\n",
    "date: '2023-05-15'\n",
    "image: \"verbs.png\"\n",
    "description: \"This is Finn's final project for the CS 451 Machine Learning class. It incorporates knowledge of the Russian langauge and much of what was taught in class to build an interactive language model to predict verb attributes for any given input Russian verb or infinitive.\"\n",
    "bibliography: refs.bib\n",
    "format: html\n",
    "---"
   ]
  },
  {
   "cell_type": "markdown",
   "id": "346190cb-8808-4b63-8173-b69a4938ea62",
   "metadata": {},
   "source": [
    "# Abstract"
   ]
  },
  {
   "cell_type": "markdown",
   "id": "a44165b4-5170-45e4-a9ac-7a64539fd9ee",
   "metadata": {},
   "source": [
    "<img src=\"verbs.png\" style=\"width:400pt\">"
   ]
  },
  {
   "cell_type": "markdown",
   "id": "88fce36a-6262-4929-8fac-8ddce58456da",
   "metadata": {},
   "source": [
    "This project aimed to develop a Russian Verb Classification Model capable of accurately predicting attributes such as tense, person, mood, etc., when given a Russian verb or infinitive. By utilizing the Random Forest Classifier model and leveraging the data from the Open Corpora dataset, my goal was to achieve a high level of accuracy that could rival traditional dictionaries. Through meticulous implementation and evaluation, I successfully produced a model that delivers a list of likely attributes with precision comparable to dictionaries, empowering users with fast and reliable verb attribute predictions."
   ]
  },
  {
   "cell_type": "markdown",
   "id": "720c9ac9-40bb-4136-b6c6-7cac2b666b37",
   "metadata": {},
   "source": [
    "# Introduction"
   ]
  },
  {
   "cell_type": "markdown",
   "id": "f752cfd9-6447-4c5c-a17b-41a2329988fc",
   "metadata": {},
   "source": [
    "Looking across the internet, I searched to see if anyone has done what I sought out to do using machine learning, but had not such luck. Mentioned here are papers closely related to my project and interest in the field of natural language processing (NLP), and in linguistic analysis in general, but they do not directly address my goal of developing a Russian Verb Classification Model. Let's briefly explain each paper's relevance and how they relate to my goal:\n",
    "\n",
    "> @artemova2020deep \"Deep Learning for the Russian Language\" by Ekaterina Artemova: This paper discusses deep learning applications in processing the Russian language. While it provides insights into the challenges and techniques of deep learning in NLP, it does not specifically focus on verb classification or address my goal.\n",
    "\n",
    "> @kutuzov2017rusvec \"RusVectōrēs: A Toolkit for Building Web Interfaces for Vector Semantic Models\" by Kutuzov A., Kuzmenko E.: This paper presents a toolkit called RusVectōrēs, which computes semantic relations between words in Russian and provides pre-trained distributional semantic models. While this resource can be useful for analyzing the semantics of Russian words, it does not directly relate to verb classification or my project's objective.\n",
    "\n",
    "> @sboev2016machine \"Machine Learning Models of Text Categorization by Author Gender Using Topic-independent Features\" by Aleksandr Sboev et al.: This paper focuses on the problem of text categorization based on the author's gender using clues like word endings and context. Although it deals with machine learning techniques applied to Russian-language texts, it does not address verb classification or align with my specific goal.\n",
    "\n",
    "> @olga2015inducing \"Inducing Verb Classes from Frames in Russian: Morpho‑Syntax and Semantic Roles\": This paper presents clustering experiments on Russian verbs using data from the Russian FrameBank. It explores the hypothesis of grouping verbs into semantic classes based on lexical and syntactic distributional profiles. While it pertains to verb classification in Russian, it does not directly align with my project's objective of predicting attributes such as tense, person, and mood.\n",
    "\n",
    "In summary, while these papers and many like them discuss various aspects of NLP and linguistic analysis in the Russian language, none of them specifically address or accomplish my goal of developing a Russian Verb Classification Model.\n",
    "\n",
    "\n",
    "So with that, I will start to explore methods to reach my goal of verb classification. All of the files I will discuss here can be found on my github repository for this project located here:\n",
    "<br>https://github.com/Norvoke/CSCI0451Project\n",
    "\n",
    "There you can find a pretrained model to download and mess around with using the command-line. You will need the following libraries for it to run:<br>\n",
    "`urllib, joblib, numpy, pandas, and sklearn.`"
   ]
  },
  {
   "cell_type": "markdown",
   "id": "ab1726d0-6f8d-4fa9-a61e-51d800db6fb9",
   "metadata": {},
   "source": [
    "# Values Statement"
   ]
  },
  {
   "cell_type": "markdown",
   "id": "af1dba61-399a-4299-b3df-ddeb52d71c5c",
   "metadata": {},
   "source": [
    "The potential users of my project are individuals who seek accurate and efficient predictions of verb attributes in the Russian language. These users could include language learners, translators, linguists, and anyone who deals with Russian verb analysis. Additionally, researchers and developers in the field of natural language processing and computational linguistics may find value in the techniques and methodologies employed in this project.\n",
    "\n",
    "The technology that solves the problem of accurate verb attribute prediction in Russian benefits the users by providing them with fast and reliable information, empowering them to perform tasks more efficiently and accurately. This technology enhances their understanding and usage of the Russian language, saving time and effort in manual analysis.\n",
    "\n",
    "While the technology itself does not have inherent harmful effects, its potential impact may depend on how it is implemented and used. There is a possibility that overreliance on automated tools could lead to a decline in manual linguistic analysis skills or the perpetuation of biases present in the training data. Therefore, it is crucial to ensure ethical considerations and a balanced approach in the development and use of the technology.\n",
    "\n",
    "The implementation of this technology, when combined with responsible practices and continuous improvement, has the potential to contribute to a more equitable, just, and sustainable world. By providing accessible and accurate information to users, it can bridge language barriers and promote effective communication. However, it is important to recognize that technology alone cannot solely address systemic issues, can uphold inherent biases, and cannot guarantee societal progress. In the end, my goal to to explore these methods using my knowledge of machine learning, familiarity with linguistic concepts, and with grammar structures present in the Russian language."
   ]
  },
  {
   "cell_type": "markdown",
   "id": "20be7651-50a9-4b35-86c8-802b7a988726",
   "metadata": {},
   "source": [
    "# Materials and Methods"
   ]
  },
  {
   "cell_type": "markdown",
   "id": "205a64a2-9abb-4773-a1fd-8ae1fce58e61",
   "metadata": {},
   "source": [
    "## The Data:\n",
    "> <img src=\"opencorp.png\" style=\"width:550pt\">\n",
    "> <figcaption style = \"padding: 2px\">  The homepage for the Russian OpenCorpora project translated (using Google translate) into English. \n",
    "<figure/> <p>"
   ]
  },
  {
   "cell_type": "markdown",
   "id": "f7ef0fe8-38ff-4af7-8ef5-4d83deb06e68",
   "metadata": {},
   "source": [
    "The OpenCorpora dataset is a valuable resource for linguistic analysis of the Russian language. It was collected and encoded by Rachael Tatman, and the dataset consists of two files: the corpus and the dictionary. The corpus is provided in .json format, while the dictionary is in plain text. The dataset is encoded in UTF-8, ensuring compatibility with various systems and applications.\n",
    "\n",
    "The example snippet from the dataset demonstrates the format of the corpus. Each row represents a word or verb form along with its associated tags, providing information about the word's part of speech, animacy, gender, number, case, aspect, person, tense, and mood. For nouns, the tags include information about animacy, gender, number, and case. For verbs, the tags include details about aspect, person, tense, and mood.\n",
    "\n",
    "### Example entries:"
   ]
  },
  {
   "cell_type": "markdown",
   "id": "11b0344e-0ffc-4c13-befc-6c71edfe5842",
   "metadata": {},
   "source": [
    "1:  <br>\n",
    "`ЁЖ    NOUN,anim,masc sing,nomn` <br>\n",
    "`ЕЖА    NOUN,anim,masc sing,gent` <br>\n",
    "`ЕЖУ    NOUN,anim,masc sing,datv` <br>\n",
    "`ЕЖА    NOUN,anim,masc sing,accs` <br>\n",
    "`ЕЖОМ    NOUN,anim,masc sing,ablt` <br>\n",
    "`ЕЖЕ    NOUN,anim,masc sing,loct` <br>\n",
    "`ЕЖИ    NOUN,anim,masc plur,nomn` <br>\n",
    "`ЕЖЕЙ    NOUN,anim,masc plur,gent` <br>\n",
    "`ЕЖАМ    NOUN,anim,masc plur,datv` <br>\n",
    "... <br>\n",
    "41: <br>\n",
    "`ЁРНИЧАЮ    VERB,impf,intr sing,1per,pres,indc` <br>\n",
    "`ЁРНИЧАЕМ    VERB,impf,intr plur,1per,pres,indc` <br>\n",
    "`ЁРНИЧАЕШЬ    VERB,impf,intr sing,2per,pres,indc` <br>\n",
    "`ЁРНИЧАЕТЕ    VERB,impf,intr plur,2per,pres,indc` <br>\n",
    "`ЁРНИЧАЕТ    VERB,impf,intr sing,3per,pres,indc` <br>\n",
    "`ЁРНИЧАЮТ    VERB,impf,intr plur,3per,pres,indc` <br>\n",
    "`ЁРНИЧАЛ    VERB,impf,intr masc,sing,past,indc` <br>\n",
    "`ЁРНИЧАЛА    VERB,impf,intr femn,sing,past,indc` <br>\n",
    "`ЁРНИЧАЛО    VERB,impf,intr neut,sing,past,indc` <br>\n",
    "`ЁРНИЧАЛИ    VERB,impf,intr plur,past,indc` <br>\n",
    "`ЁРНИЧАЙ    VERB,impf,intr sing,impr,excl` <br>\n",
    "`ЁРНИЧАЙТЕ    VERB,impf,intr plur,impr,excl`\n",
    "<br>... \n"
   ]
  },
  {
   "cell_type": "markdown",
   "id": "39cfdb1a-60dd-4e0f-8981-a3bf774a62e1",
   "metadata": {},
   "source": [
    "It is important to note some potential limitations of the OpenCorpora dataset. The dataset primarily focuses on Russian nouns and verbs, with limited coverage of other parts of speech. While it provides a significant amount of linguistic data with 1.5 million words, it may not represent the entirety of the Russian language. Additionally, the dataset's representation of linguistic phenomena, such as dialectal variations or specific domains, may be limited.\n",
    "\n",
    "Furthermore, the OpenCorpora dataset represents written Russian language usage, which may differ from spoken language or informal registers. The dataset may not capture the full range of variation and contextual nuances present in the language. The dataset is also subject to the bias of its sources, which range from across the internet to various publications and print media, which are not listed in full on their documentation. It is necesary to understand these sources are subject to the regional restrictions on freedom of print and other contributing factors which may alter the way written language differs from the de facto. It is essential to consider these limitations when utilizing the dataset for linguistic analysis or developing models based on its contents."
   ]
  },
  {
   "cell_type": "markdown",
   "id": "054fece4-08d2-4a70-897b-ad386d2d2f80",
   "metadata": {},
   "source": [
    "## My Approach:\n",
    "\n"
   ]
  },
  {
   "cell_type": "markdown",
   "id": "017f1358-63c7-495b-8a6c-ca193aaadc23",
   "metadata": {},
   "source": [
    "Initially I needed to pull only the verbs and infinitives from the dataset, so I wrote a short program to parse the text file and read the data into a pandas data frame. It just looked at the first attribute in the text line whether it was 'INFN' or 'VERB'."
   ]
  },
  {
   "cell_type": "code",
   "execution_count": null,
   "id": "c61f0d10-f739-4dcf-a06a-15cec3ded8f8",
   "metadata": {},
   "outputs": [],
   "source": [
    "import pandas as pd\n",
    "\n",
    "# Read dictionary.txt file\n",
    "with open('dictionary.txt', 'r', encoding='utf-8') as f:\n",
    "    data = f.readlines()\n",
    "\n",
    "# Extract rows with \"VERB\" or \"INFN\"\n",
    "verb_inf_data = []\n",
    "for i, row in enumerate(data):\n",
    "    if \"VERB\" in row or \"INFN\" in row:\n",
    "        verb_inf_data.append(row.strip().split(\"\\t\"))\n",
    "\n",
    "# Create pandas dataframe\n",
    "df = pd.DataFrame(verb_inf_data[1:], columns=[\"verb\", \"attributes\"])"
   ]
  },
  {
   "cell_type": "markdown",
   "id": "70bd4878-420f-41d1-aba0-e53622bb3009",
   "metadata": {},
   "source": [
    "Which produced a data frame like this:"
   ]
  },
  {
   "cell_type": "markdown",
   "id": "23f90b25-b85f-495c-9a1a-c3b868442158",
   "metadata": {},
   "source": [
    "`x\tverb\tattributes` <br>\n",
    "`0\tЁЖИМ\tVERB,impf,tran plur,1per,pres,indc`<br>\n",
    "`1\tЁЖИШЬ\tVERB,impf,tran sing,2per,pres,indc`<br>\n",
    "`2\tЁЖИТЕ\tVERB,impf,tran plur,2per,pres,indc`<br>\n",
    "`3\tЁЖИТ\tVERB,impf,tran sing,3per,pres,indc`<br>\n",
    "`4\tЁЖАТ\tVERB,impf,tran plur,3per,pres,indc`<br>\n",
    "`...\t...\t...`<br>\n",
    "`451441\tВЛОЖАТСЯ\tVERB,perf,intr plur,3per,futr,indc`<br>\n",
    "`451442\tВЛОЖИМСЯ\tVERB,perf,intr sing,impr,incl`<br>\n",
    "`451443\tВЛОЖИМТЕСЬ\tVERB,perf,intr plur,impr,incl`<br>\n",
    "`451444\tВЛОЖИСЬ\tVERB,perf,intr sing,impr,excl`<br>\n",
    "`451445\tВЛОЖИТЕСЬ\tVERB,perf,intr plur,impr,excl`<br>\n",
    "`451446 rows × 2 columns`<br>"
   ]
  },
  {
   "cell_type": "markdown",
   "id": "0f12462b-a678-4bdd-af29-bed9c8a9930a",
   "metadata": {},
   "source": [
    "Then I needed to break up the data frame into parts, where the verb would go first after an entry number, followed by the list of attributes:"
   ]
  },
  {
   "cell_type": "code",
   "execution_count": null,
   "id": "17c99522-e3a0-45ec-8e33-e4e0c54d42b2",
   "metadata": {},
   "outputs": [],
   "source": [
    "# Add leading numbers to each entry\n",
    "df.index = df.index + 1\n",
    "df.index.name = 'Number'\n",
    "\n",
    "split_data = []\n",
    "for i, row in verb_inf_data:\n",
    "    split_data.append((row.strip().split(\",\")))\n",
    "\n",
    "df = pd.DataFrame({'Entry': verb_inf_data[1:]})\n",
    "\n",
    "verb_frame = pd.DataFrame({'verb': list(list(zip(*verb_inf_data))[0])})\n",
    "verb_frame.insert(1, \"attributes\", split_data)"
   ]
  },
  {
   "cell_type": "markdown",
   "id": "ec003ec9-a6db-4268-af5b-0c9ec2542c03",
   "metadata": {},
   "source": [
    "This is where my data parsing would produce some issues down the line in my training section, as to the computer, the attributes entries, while seperated by comma, were still treated as whole parts instead of individial attributes."
   ]
  },
  {
   "cell_type": "markdown",
   "id": "19004e1f-e884-4d58-9bea-82c25333c4f0",
   "metadata": {},
   "source": [
    "Initially I tried KMeans clustering, as in my brain, I had an idea that there were many groups of verbs, like all those which are plural or all those that are first person, and that the model could pull these out. I also perfomed the vectorization step here with the dividing of the data into valadation and test portions: "
   ]
  },
  {
   "cell_type": "code",
   "execution_count": null,
   "id": "7ccb734f-97ff-479a-a808-2cdf4a00a9c0",
   "metadata": {},
   "outputs": [],
   "source": [
    "from sklearn.feature_extraction.text import CountVectorizer\n",
    "from sklearn.cluster import KMeans\n",
    "from sklearn.metrics import silhouette_score\n",
    "\n",
    "# Load the DataFrame from your source\n",
    "data = df.head(2000)\n",
    "\n",
    "# Split the data into input features (verbs) and target labels (attributes)\n",
    "X = data['verb']\n",
    "y = data['attributes']\n",
    "\n",
    "# Vectorize input features using CountVectorizer\n",
    "vectorizer = CountVectorizer()\n",
    "X = vectorizer.fit_transform(X)\n",
    "self._vectorizer = vectorizer\n",
    "\n",
    "KMeans(n_clusters=20, random_state=0)\n",
    "\n",
    "# Evaluate the clustering using silhouette score\n",
    "labels = model.predict(X)\n",
    "score = silhouette_score(X, labels)\n",
    "print(f\"Silhouette score: {score}\")"
   ]
  },
  {
   "cell_type": "markdown",
   "id": "84a6e77f-f922-4176-bbb1-0da80f3319d6",
   "metadata": {},
   "source": [
    "Silhouette score: 0.02340348182286992"
   ]
  },
  {
   "cell_type": "markdown",
   "id": "e2521c1d-b704-4604-98a2-6b34bac2f7f7",
   "metadata": {},
   "source": [
    "A reminder that the silhuette score reflects how defined the borders of clusters are, and even with taking a smaller portion of the data to spead of teasting and getting the highest score possible with a number of clusters around 20, the silhuette score was still far to low to be usable, not even approaching 0.5."
   ]
  },
  {
   "cell_type": "markdown",
   "id": "146197d0-6837-4086-88eb-de959cfe3785",
   "metadata": {},
   "source": [
    "So I tried some more data manipulation and reasearched to find a better algorithm to use. I ended up settling on the random forest classifier approach, and modified the way my data was stored to optimize its use with the RandomForestClassifier. I did this by seperating each verb attribute into a separate column in a new data frame, with the number of columns corresponding with the maximum number of attributes. I also shuffled thr rows from its original alphabetized form to rid the bias that might result from that and took the a random 40 thousand entries as my computer ended up running out of memory somewhere along the way when I used more of the data. This should still provide more than sufficient training data."
   ]
  },
  {
   "cell_type": "code",
   "execution_count": null,
   "id": "a8b04499-ff6c-4a31-bf6a-9d1623042318",
   "metadata": {},
   "outputs": [],
   "source": [
    "# Gathering just an even 40k of the ~41k rows to make dealing with them a bit easier\n",
    "df = df.sample(frac = 1).head(40000)\n",
    "\n",
    "# Split attributes column into separate columns\n",
    "df_attributes = df['attributes'].apply(lambda x: pd.Series(x.split(',')))\n",
    "df_attributes.columns = ['attribute{}'.format(i) for i in range(1, len(df_attributes.columns) + 1)]\n",
    "\n",
    "# Merge verb column with split attributes columns\n",
    "df = pd.concat([df['verb'], df_attributes], axis=1)\n",
    "\n",
    "# Fill NaN values with empty strings\n",
    "df.fillna(value='', inplace=True)\n",
    "\n",
    "# Create parallel data frame with separate columns for each attribute\n",
    "parallel_df = pd.DataFrame()\n",
    "for column in df_attributes.columns:\n",
    "    attribute_values = df_attributes[column].unique()\n",
    "    for value in attribute_values:\n",
    "        parallel_df[f'{column}_{value}'] = df['verb'].where(df[column] == value, '')\n",
    "\n",
    "# Extract the verb and attribute columns from the dataframe\n",
    "verbs = df['verb']\n",
    "attributes = df.iloc[:, 1:]"
   ]
  },
  {
   "cell_type": "markdown",
   "id": "e743bf5c-6c49-442a-879a-1ed89d37073c",
   "metadata": {},
   "source": [
    "This resulted in the following data frame:"
   ]
  },
  {
   "cell_type": "markdown",
   "id": "99c63d1d-156a-425f-8ab5-3ae08c5860e0",
   "metadata": {},
   "source": [
    "`  verb  attribute1  attribute2  attribute3  attribute4  attribute5  attribute6  attribute7`<br>\n",
    "`305100\tПОШМЫГАЙТЕ\tVERB\tperf\tintr plur\timpr\texcl\t\t`<br>\n",
    "`304563\tПОЧУДЯТСЯ\tVERB\tperf\tintr plur\t3per\tfutr\tindc\t`<br>\n",
    "`297352\tПОСКРИПЫВАТЬ\tINFN\timpf\tintr\t\t\t\t`<br>\n",
    "`277886\tПОДСУШИВАЕТЕСЬ\tVERB\timpf\tintr plur\t2per\tpres\tindc\t`<br>\n",
    "`67659\tДОСПЕЮТ\tVERB\tperf\tintr plur\t3per\tfutr\tindc\t`<br>\n",
    "...\t...\t...\t...\t...\t...\t...\t...\t...<br>\n",
    "`82775\tЗАКАЛЫВАЕШЬСЯ\tVERB\timpf\tintr sing\t2per\tpres\tindc\t`<br>\n",
    "`148750\tНАДМАЧИВАЮТСЯ\tVERB\timpf\tintr plur\t3per\tpres\tindc\t`<br>\n",
    "`90144\tЗАНАВЕШИВАЕТ\tVERB\timpf\ttran sing\t3per\tpres\tindc\t`<br>\n",
    "`279045\tПОДТОЧАТ\tVERB\tperf\ttran plur\t3per\tfutr\tindc\t`<br>\n",
    "`380842\tРЯВКНУЛО\tVERB\tperf\tintr neut\tsing\tpast\tindc\t`<br>\n",
    "40000 rows × 8 columns"
   ]
  },
  {
   "cell_type": "markdown",
   "id": "7ed780c8-4e22-42d6-ba2f-b84984310546",
   "metadata": {},
   "source": [
    "I then vectorized it from this form and prepared the forest classifier:"
   ]
  },
  {
   "cell_type": "code",
   "execution_count": null,
   "id": "e515b57e-2876-4315-bbef-0df2b242b045",
   "metadata": {},
   "outputs": [],
   "source": [
    "mlb = MultiLabelBinarizer()\n",
    "attribute_features = mlb.fit_transform(attributes.values)\n",
    "attribute_columns = mlb.classes_\n",
    "\n",
    "X_train, X_test, y_train, y_test = train_test_split(verbs, attribute_features, test_size=0.2, random_state=42)\n",
    "\n",
    "vectorizer = CountVectorizer(analyzer='char', ngram_range=(2, 3))\n",
    "X_train_vectorized = vectorizer.fit_transform(X_train)\n",
    "X_test_vectorized = vectorizer.transform(X_test)\n",
    "\n",
    "model = RandomForestClassifier(max_depth=None, random_state=0, n_jobs=-1, class_weight=\"balanced_subsample\")\n",
    "model.fit(X_train_vectorized, y_train)"
   ]
  },
  {
   "cell_type": "markdown",
   "id": "aff70fc4-efef-4ee3-87b1-6d76723bd3cf",
   "metadata": {},
   "source": [
    "I quickly wanted to visualize the data again now that I had seperated the attributes. I used matplotlib to make the following bar graph showing the frequency on the most common attributes. It had some issued like plotting the \"intr Erro,\" but you can see that the INFN and VERB columns, if stacked would equal 40,000, which goes along with our data set size, this also applies to the 'impf' and 'perf' attributes, which in Russian corresponds to imperfective and perfective verbs, which a verb can be one or the other, not neither nor both:"
   ]
  },
  {
   "cell_type": "markdown",
   "id": "4aa30a3a-76c1-400e-9477-79a9e50cdbb0",
   "metadata": {},
   "source": [
    " <img src=\"attributes.png\" style=\"width:500pt\">"
   ]
  },
  {
   "cell_type": "markdown",
   "id": "e5a6f393-c119-4581-bb9a-f43c67179cdc",
   "metadata": {},
   "source": [
    "I also tried to put together a word cloud of the attributes, though my graphing method may be flawed. It required me to drop all the empty attribute columns, which I did for the earlier visualization. But it also had me concatenate all of the verb attributes so I had uniform columns. The visualization still helps in seeing the frequency which corresponds to the size of the attributes below, which shows the biggest group fits into either 'VERB impf' or 'VERB perf':"
   ]
  },
  {
   "cell_type": "markdown",
   "id": "c6cd4bab-74a0-4c15-b219-51166e2146dd",
   "metadata": {},
   "source": [
    " <img src=\"cloud.png\" style=\"width:600pt\">"
   ]
  },
  {
   "cell_type": "markdown",
   "id": "df521f23-b5a5-49af-9414-23ed1342ccde",
   "metadata": {},
   "source": [
    "With a better understanding of out data and our model already initialized, the reasons for choosing the RandomForestClassifier method are more clear, but I can outline them here:"
   ]
  },
  {
   "cell_type": "markdown",
   "id": "0bd67868-7e3b-46e9-a6e9-3f730bb7dda9",
   "metadata": {},
   "source": [
    "1. Non-linearity: RandomForestClassifier is a non-linear model that can capture complex relationships between input features (verbs) and output classes (attributes). Verbs can have various patterns and combinations of attributes, and a non-linear model like RandomForestClassifier can capture these intricate patterns better than linear models.\n",
    "\n",
    "2. Robust to irrelevant features: RandomForestClassifier can handle a large number of input features (verbs) without requiring feature selection or dimensionality reduction techniques. It automatically selects relevant features and assigns them appropriate importance during the training process. This is advantageous when dealing with a potentially large vocabulary of verbs (which I would say we have).\n",
    "\n",
    "2. Handling categorical data: RandomForestClassifier naturally handles categorical data, making it suitable for classifying verbs based on categorical attributes like tense and person. It can learn the decision boundaries and relationships between different attribute values, allowing it to make accurate predictions."
   ]
  },
  {
   "cell_type": "markdown",
   "id": "cc55386f-0de3-47e7-a71b-e415d57a282b",
   "metadata": {},
   "source": [
    "With that, let's train!"
   ]
  },
  {
   "cell_type": "markdown",
   "id": "a5886e3b-358a-42c3-8774-b4d46806e75a",
   "metadata": {},
   "source": [
    "# Results"
   ]
  },
  {
   "cell_type": "markdown",
   "id": "589b90b2-6571-455e-a7e8-bd4b39a2b933",
   "metadata": {},
   "source": [
    "Here I started the training model and had it print the final results of all the training steps:"
   ]
  },
  {
   "cell_type": "code",
   "execution_count": null,
   "id": "306038d3-fd70-4808-932e-36219377bd25",
   "metadata": {},
   "outputs": [],
   "source": [
    "y_pred = model.predict(X_test_vectorized)\n",
    "print(classification_report(y_test, y_pred))"
   ]
  },
  {
   "cell_type": "markdown",
   "id": "fe11a68d-0084-4537-beb5-c8a9f118f695",
   "metadata": {},
   "source": [
    "                precision    recall  f1-score   support\n",
    "\n",
    "           0       1.00      1.00      1.00      8000\n",
    "           1       0.85      0.64      0.73      1166\n",
    "           2       0.96      0.83      0.89      1193\n",
    "           3       0.99      0.73      0.84      1127\n",
    "           4       0.00      0.00      0.00         0\n",
    "           5       0.00      0.00      0.00         1\n",
    "           6       0.00      0.00      0.00         0\n",
    "           7       0.00      0.00      0.00         0\n",
    "           8       0.00      0.00      0.00         0\n",
    "           9       0.00      0.00      0.00         2\n",
    "          10       0.00      0.00      0.00         3\n",
    "          11       0.00      0.00      0.00         2\n",
    "          12       0.00      0.00      0.00         0\n",
    "          13       0.99      0.98      0.99       571\n",
    "          14       0.00      0.00      0.00         3\n",
    "          15       0.00      0.00      0.00         2\n",
    "          16       0.00      0.00      0.00         4\n",
    "          17       0.00      0.00      0.00         0\n",
    "          18       0.92      0.24      0.38        46\n",
    "          19       0.00      0.00      0.00         0\n",
    "          20       0.00      0.00      0.00         1\n",
    "          21       0.00      0.00      0.00         0\n",
    "          22       0.00      0.00      0.00         4\n",
    "          23       0.00      0.00      0.00         1\n",
    "          24       0.00      0.00      0.00         0\n",
    "          25       0.00      0.00      0.00         0\n",
    "          26       0.00      0.00      0.00         0\n",
    "          27       0.00      0.00      0.00         2\n",
    "          28       1.00      1.00      1.00      7429\n",
    "          29       0.92      0.74      0.82      1111\n",
    "          30       0.77      0.39      0.52      1717\n",
    "          31       0.82      0.83      0.82      3829\n",
    "          32       0.88      0.69      0.77      1635\n",
    "          33       0.85      0.49      0.63       524\n",
    "          34       0.92      0.97      0.94      5794\n",
    "          35       0.98      0.75      0.85       322\n",
    "          36       0.00      0.00      0.00         0\n",
    "          37       0.98      0.74      0.85       303\n",
    "          38       0.99      0.65      0.78       294\n",
    "          39       0.98      0.76      0.86       292\n",
    "          40       0.95      0.71      0.81      1590\n",
    "          41       0.96      0.65      0.77      1263\n",
    "          42       0.99      0.96      0.98      2303\n",
    "          43       0.85      0.82      0.83      4171\n",
    "          44       0.84      0.75      0.79      1774\n",
    "          45       0.98      0.90      0.94      1735\n",
    "          46       0.87      0.82      0.85       268\n",
    "          47       0.00      0.00      0.00         0\n",
    "          48       0.89      0.55      0.68       277\n",
    "          49       0.81      0.12      0.21       277\n",
    "          50       0.91      0.55      0.68       289\n",
    "          51       0.84      0.55      0.67      1580\n",
    "          52       0.81      0.56      0.67      1245\n",
    "\n",
    "`   micro avg       0.93      0.84      0.88     52150` <br>\n",
    "`   macro avg       0.50      0.38      0.43     52150` <br>\n",
    "`weighted avg       0.92      0.84      0.87     52150` <br>\n",
    "` samples avg       0.93      0.84      0.88     52150` <br>"
   ]
  },
  {
   "cell_type": "markdown",
   "id": "f454f180-772e-4775-b953-c9ef6b4f41ee",
   "metadata": {},
   "source": [
    "Thses final lines are important, as they show the actual accuracy of my model in terms of the split data testing validation. The `micro avg` takes into account how many samples there are per category, which is not uniform in this data as the number of attributes do not match across all verbs, so take this number with a grain of salt. The `macro avg` is also a bit hard to interperet as the classes are not uniform again.\n",
    "\n",
    "But we can see the results of the RandomForestClassifier, which can be interpreted based on the metrics provided in the output. Here's a basic breakdown of the metrics and their implications:\n",
    "\n",
    "### Micro Average:\n",
    "> Precision `(0.93)`: This represents the proportion of true positive predictions out of all the positive predictions made across all classes. In this case, the micro-average precision is 0.93, indicating that 93% of the positive predictions made by the model are correct. Recall `(0.84)`: This represents the proportion of true positive predictions out of all the actual positive instances across all classes. A micro-average recall of 0.84 means that the model is able to correctly identify 84% of the positive instances. F1-Score `(0.88`): The F1-score is the harmonic mean of precision and recall. It provides a balanced measure of the model's accuracy. A micro-average F1-score of 0.88 indicates a good overall performance of the model in terms of both precision and recall.\n",
    "\n",
    "### Macro Average:\n",
    "> Precision `(0.50)`: The macro-average precision is the average precision across all classes. A value of 0.50 suggests that the model's precision varies widely across different classes, with some classes performing well and others poorly (this makes sense with our variety of number of attributes to each verb entry). Recall `(0.38)`: The macro-average recall is the average recall across all classes. Similarly, a value of 0.38 indicates that the model's recall varies significantly across classes. F1-Score `(0.43)`: The macro-average F1-score is the average F1-score across all classes. With a value of 0.43, it suggests an overall moderate performance of the model in terms of precision and recall across all classes.\n",
    "\n",
    "### Weighted Average:\n",
    "> Precision `(0.92)`: The weighted-average precision considers the number of samples in each class. It provides an overall precision measure while accounting for class imbalances. A value of 0.92 indicates a high precision for the model. Recall `(0.84)`: The weighted-average recall is similar to the weighted-average precision but considers recall instead. It also accounts for class imbalances. A value of 0.84 suggests a reasonable recall rate for the model. F1-Score `(0.87)`: The weighted-average F1-score considers both precision and recall while accounting for class imbalances. A value of 0.87 indicates a good overall balance between precision and recall.\n",
    "\n",
    "### Samples Average:\n",
    "> Precision `(0.93)`: The samples-average precision is similar to micro-average precision, but it treats each sample (instance) as an individual observation rather than aggregating by class. A value of 0.93 suggests that, on average, the model has a high precision for individual predictions. Recall `(0.84)`: The samples-average recall is similar to micro-average recall, treating each sample as an individual observation. It indicates that, on average, the model is able to correctly identify 84% of the positive instances in the dataset. F1-Score `(0.88)`: The samples-average F1-score is the harmonic mean of samples-average precision and samples-average recall. It provides an overall measure of the model's accuracy on an individual sample level.\n",
    "\n",
    "Overall, the RandomForestClassifier model seems to perform well in terms of precision, recall, and F1-score when considering the micro-average and weighted-average metrics. However, the macro-average metrics suggest that the model's performance varies significantly across different classes. It's important to investigate further to identify which specific classes or attributes may have lower performance and may require further improvement."
   ]
  },
  {
   "cell_type": "markdown",
   "id": "02520a20-194b-4d2b-8792-a505d3a8b8ce",
   "metadata": {},
   "source": [
    "Next comes my favorite part of actually testing verbs to see what our model believes would be their attributes. I wrote a wuick function which intakes the verb and returns the predicted attributes:"
   ]
  },
  {
   "cell_type": "code",
   "execution_count": null,
   "id": "e5f99a16-e13c-4298-98b9-772477abc3a8",
   "metadata": {},
   "outputs": [],
   "source": [
    "def predict_attributes(verb):\n",
    "    verb_vectorized = vectorizer.transform([verb])\n",
    "    predicted_attributes = model.predict(verb_vectorized)\n",
    "    return mlb.inverse_transform(predicted_attributes)[0]\n",
    "\n",
    "input_verb = [str(input(\"Enter a verb: \"))]\n",
    "predict_attributes(str(input_verb))"
   ]
  },
  {
   "cell_type": "markdown",
   "id": "923c4906-2b70-4353-a671-0d35d6968215",
   "metadata": {},
   "source": [
    "I needed some verbs to test, so I went to Cooljugator, a tool used in my Russian class to learn verb conjugation, to look at the most common verbs."
   ]
  },
  {
   "cell_type": "markdown",
   "id": "e10ad2a8-e6cb-45bb-98fc-1b9e7285d75f",
   "metadata": {},
   "source": [
    " <img src=\"cooljugator.png\" style=\"width:600pt\">"
   ]
  },
  {
   "cell_type": "markdown",
   "id": "e07b0c86-d800-44aa-a1d6-fd5bf695cb5e",
   "metadata": {},
   "source": [
    "It a less scientific test, more interesting to me as a learner of Russian, I picked the last five verbs from the list and put in their infinintives and got the following:"
   ]
  },
  {
   "cell_type": "markdown",
   "id": "04646bdb-9bf6-494b-85c8-71167912c4ec",
   "metadata": {},
   "source": [
    "    Enter a verb:  Покупать\n",
    "    ('', 'INFN', 'impf', 'tran')\n",
    "\n",
    "    Enter a verb:  Начинать\n",
    "    ('', 'INFN', 'impf', 'tran')\n",
    "\n",
    "    Enter a verb:  Мыть\n",
    "    ('', 'INFN', 'impf')\n",
    "\n",
    "    Enter a verb:  Слушать\n",
    "    ('', 'INFN', 'impf', 'tran')\n",
    "\n",
    "    Enter a verb:  Спрашивать\n",
    "    ('', 'INFN', 'impf', 'tran')"
   ]
  },
  {
   "cell_type": "markdown",
   "id": "6933723d-dc9c-47fc-8408-c8a97d6da0ac",
   "metadata": {},
   "source": [
    "It corroectly identifies all of the infinitives with the correct 'INFN' attribute, as well as confirming that all these verbs are imperfective with the 'impf' tag. These where all transitive verbs, and it got the 'tran' tag correct for 4/5 verbs. Now let's try with some conjugated verbs:"
   ]
  },
  {
   "cell_type": "markdown",
   "id": "b781103d-42c4-4cbc-a392-cf966b0fb281",
   "metadata": {},
   "source": [
    "    Enter a verb:  спрашиваю\n",
    "    ('', '1per', 'VERB', 'impf', 'indc', 'pres', 'tran sing')\n",
    "    \n",
    "    Enter a verb:  слушаем\n",
    "    ('', '1per', 'VERB', 'impf', 'indc', 'pres', 'tran plur')\n",
    "    \n",
    "    Enter a verb:  моют\n",
    "    ('', '3per', 'VERB', 'impf', 'indc', 'pres')\n",
    "    \n",
    "    Enter a verb:  начинаете\n",
    "    ('', '2per', 'VERB', 'impf', 'indc', 'pres', 'tran plur')\n",
    "    \n",
    "    Enter a verb:  покупает\n",
    "    ('', '3per', 'VERB', 'futr', 'indc', 'perf', 'tran sing')"
   ]
  },
  {
   "cell_type": "markdown",
   "id": "e8e2d172-4fcb-4722-94e0-203b9f28d127",
   "metadata": {},
   "source": [
    "I copied the following from the very same Cooljugator tool where I got the verbs so we can compare with the above results (I highlighted the selected verbs):"
   ]
  },
  {
   "cell_type": "markdown",
   "id": "f067d1ab-539d-4700-a37e-20aca91d88b9",
   "metadata": {},
   "source": [
    " <img src=\"conjugated.png\" style=\"width:900pt\">"
   ]
  },
  {
   "cell_type": "markdown",
   "id": "53694481-7982-47d1-8707-e691760163ec",
   "metadata": {},
   "source": [
    "For this example, let's ignore the 'tran' part of the 'tran plur/sing' as it is a bit beyond the scope of the explanation needed here.\n",
    "\n",
    "We can see for the first example \"спрашиваю,\" it correctly identifies that it is first person and singular, meaning \"I ask.\" The next example, \"слушаем\" is correctly identifies it as first person plural. In fact, it identifies the person correctly for all of these examples, it only messes up where it did in the earlier example, on \"моют.\" This shows the model correctly groups the conjugated and infinitive forms of the verb with the same attributes, but it also means if it incorrectly identifies or fails to identify attributes, this can carry over to the other forms of the verb. One possible fix to this could be to gorup all variants of the same verb seperately, at the cost of storage and efficiency."
   ]
  },
  {
   "cell_type": "markdown",
   "id": "02d3cd35-4832-4b21-8d6b-3e9085cb7d59",
   "metadata": {},
   "source": [
    "# Concluding Discussion"
   ]
  },
  {
   "cell_type": "markdown",
   "id": "873ab3cc-47cc-4086-8443-9e9b3b0945f4",
   "metadata": {},
   "source": [
    "In conclusion, my machine learning model, trained on the Open Corpora Russian word list, demonstrates a remarkable ability to accurately identify verb attributes. Its high accuracy can be attributed to the comprehensive and diverse training data provided by the Open Corpora Russian word list, enabling the model to learn the intricate patterns and nuances of verb attributes in the Russian language.\n",
    "\n",
    "To further enhance the performance of my model in the future, I could consider incorporating additional linguistic features such as syntactic structures, semantic relations, or contextual information. These elements can provide valuable insights and help the model capture the broader context in which verbs and their attributes occur.\n",
    "\n",
    "Furthermore, expanding the training data to include a wider range of text genres, domains, and linguistic variations would likely improve the model's generalization capabilities. This would ensure that the model can handle various real-world scenarios and adapt to different writing styles or domains.\n",
    "\n",
    "This lies more outside of the scope of my initial plans for my model, but I look forward to exploring this in the future.\n",
    "\n",
    "I believe I met my goals of the project. I had some plans to compare with non-machine-trained models, like that of two previous students' work who made a model doing something very similar with Arabic verbs, but adapting it to work with Russian would have been a whole project on its own.\n",
    "\n",
    "I also would have liked to make the model more interactive and usable from a language learner's perspective, as this was my goal to make a tool useful for learning and analyzing Russian verb structure. Unfortunately, my skills when it comes to making a web app and the resources I would need to host my model are just not there to make it happen yet. I again look forward to exploring this in the future, but for now the tool will only be interactive through the command-line."
   ]
  },
  {
   "cell_type": "markdown",
   "id": "d02d3802-00fc-47f3-832a-56d2c2798a9b",
   "metadata": {},
   "source": [
    "# Contributions Statement"
   ]
  },
  {
   "cell_type": "markdown",
   "id": "7745a122-bb1d-434f-830b-c3ff1bc66242",
   "metadata": {},
   "source": [
    "All of the code seen here was written by myself, with a lot of help from class work in my CS451 Machine Learning class, taught by the amazing [Professor Chodrow](https://www.philchodrow.prof/). I also thank the folks who made SciKit Learn for their amazing documentation, especially for the RandomForestClassifier examples provided [here](https://scikit-learn.org/stable/modules/generated/sklearn.ensemble.RandomForestClassifier.html)."
   ]
  },
  {
   "cell_type": "markdown",
   "id": "46ed2ac2-ad21-4020-a42a-29465125fe4a",
   "metadata": {},
   "source": [
    "# Personal Reflection"
   ]
  },
  {
   "cell_type": "markdown",
   "id": "456cba79-4ff8-4a7a-b6f3-9e50bf6ffefe",
   "metadata": {},
   "source": [
    "In retrospect, my CS 451 Machine Learning project was centered around the development of a model capable of identifying attributes for Russian verbs. With a somewhat surprising level of accuracy, the model successfully assigned attributes to various input verbs, presenting a promising outcome.\n",
    "\n",
    "Throughout the project, the model proved itself to be a reliable companion, exhibiting an aptitude for understanding the intricate relationships between verbs and their associated attributes. Its ability to decipher the nuanced patterns of the Russian language offered a glimmer of hope for those seeking an automated solution to this particular linguistic challenge.\n",
    "\n",
    "While the project may not have produced rib-tickling anecdotes or unexpected twists, it nonetheless showcased the efficacy of machine learning algorithms in tackling linguistic tasks. The model's consistent performance allowed for a dry but gratifying sense of accomplishment, affirming the value of meticulous training and careful feature selection.\n",
    "\n",
    "As I reflect upon this project, the humor lies in the unassuming nature of the outcome. There were no extravagant claims or over-the-top flamboyance; just a methodical exploration of data and algorithms resulting in a tool that quietly achieved its intended purpose. In the world of machine learning, even modest successes deserve recognition, and this project served as a reminder of the incremental progress we can make in unraveling the complexities of language."
   ]
  },
  {
   "cell_type": "code",
   "execution_count": null,
   "id": "7c9943cd-9364-4978-9ae9-2b122cbcc4fd",
   "metadata": {},
   "outputs": [],
   "source": []
  }
 ],
 "metadata": {
  "kernelspec": {
   "display_name": "Python 3 (ipykernel)",
   "language": "python",
   "name": "python3"
  },
  "language_info": {
   "codemirror_mode": {
    "name": "ipython",
    "version": 3
   },
   "file_extension": ".py",
   "mimetype": "text/x-python",
   "name": "python",
   "nbconvert_exporter": "python",
   "pygments_lexer": "ipython3",
   "version": "3.9.13"
  }
 },
 "nbformat": 4,
 "nbformat_minor": 5
}
