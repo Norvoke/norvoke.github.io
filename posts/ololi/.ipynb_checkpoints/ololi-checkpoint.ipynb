{
 "cells": [
  {
   "cell_type": "raw",
   "id": "a769f9bd-407e-4fa5-9046-30396e1b9cbd",
   "metadata": {},
   "source": [
    "---\n",
    "title: Ololi, and me trying to make it on to the Apple App Store...\n",
    "author: Finn Ellingwood\n",
    "date: '2024-04-6'\n",
    "image: \"ololi.png\"\n",
    "description: \"Finn's attempt at iOS development.\"\n",
    "format: html\n",
    "---"
   ]
  },
  {
   "cell_type": "markdown",
   "id": "0c97563e-1905-48f9-bef1-7fc6dead6cba",
   "metadata": {},
   "source": [
    "Here I was, a week of spring vacation ahead of me, and absolutely zero motivation to fill out another summer internship application. So, naturally, I did what any self-respecting, mildly procrastinating tech enthusiast would do: I decided to build an iOS app. Because, honestly, why not?\n",
    "\n",
    "Chapter 1: \"It Begins with an Emoji...\"\n",
    "\n",
    "Armed with SwiftUI, a penchant for whimsy, and an inexplicable fondness for fruit emojis, I embarked on creating \"ololi,\" the emoji matching game no one knew they needed until now. Here's the gist: you've got a bunch of fruit emojis, and your mission, should you choose to accept it, is to match 'em up before time runs out. Sounds simple, right? Oh, sweet summer child..."
   ]
  },
  {
   "cell_type": "code",
   "execution_count": null,
   "id": "916dea61-0c9c-45d0-ad97-11fd5f111a3c",
   "metadata": {},
   "outputs": [],
   "source": [
    "import SwiftUI\n",
    "\n",
    "struct ContentView: View {\n",
    "    @State private var emojiCards = [\"🍎\", \"🍌\", \"🍇\", \"🍉\", \"🍓\", \"🍒\", \"🍑\", \"🍍\"].doubled().shuffled()\n",
    "    @State private var flippedCards = Set<Int>()\n",
    "    @State private var matchedCards = Set<Int>()\n"
   ]
  },
  {
   "cell_type": "markdown",
   "id": "9c1bb0ce-0fe6-4692-858d-4c3260bc8400",
   "metadata": {},
   "source": [
    "First off, doubling and shuffling an array of emojis? Check. It's like making a smoothie but forgetting to put the lid on the blender.\n",
    "\n",
    "Chapter 2: \"The Flippening\"\n",
    "\n",
    "Keeping track of which cards have been flipped and which have found their soulmate was a bit like trying to remember where I left my keys. In a fit of what I can only describe as \"coding grace,\" I managed to wrangle some state variables into submission."
   ]
  },
  {
   "cell_type": "code",
   "execution_count": null,
   "id": "d5026112-0813-427d-b592-6967f15ceb94",
   "metadata": {},
   "outputs": [],
   "source": [
    "    @State private var gameTimer = Timer.publish(every: 1, on: .main, in: .common).autoconnect()\n",
    "    @State private var timeRemaining = 90\n",
    "    @State private var isGameOver = false\n",
    "    @State private var showingTitleScreen = true // Control the display of the title screen\n",
    "    @State private var selectedTime = 90 // Default to easy mode"
   ]
  },
  {
   "cell_type": "markdown",
   "id": "3e9f0391-4348-46d6-8355-85038700e5da",
   "metadata": {},
   "source": [
    "Introducing a ticking time bomb into the mix because, hey, life's not exciting enough as it is.\n",
    "\n",
    "Chapter 3: \"A Wild UI Appears\"\n",
    "\n",
    "Building the UI was like deciding on an outfit. You start simple, then before you know it, you're layering like it's Fashion Week. GeometryReader? Check. VStacks within VStacks? Check. A sense of existential dread as you wonder if anyone will actually play this game? Double-check."
   ]
  },
  {
   "cell_type": "code",
   "execution_count": null,
   "id": "2200adf3-908c-4760-9cbf-52afccc3becb",
   "metadata": {},
   "outputs": [],
   "source": [
    "var body: some View {\n",
    "        GeometryReader { geometry in\n",
    "            VStack {\n",
    "                if showingTitleScreen {\n",
    "                    TitleScreenView(startGame: {\n",
    "                        self.showingTitleScreen = false\n",
    "                        self.timeRemaining = self.selectedTime\n",
    "                    }, selectedTime: $selectedTime)\n",
    "                } else {\n",
    "                    GameTitleView() // Display the game title\n",
    "                    if isGameOver {\n",
    "                        GeometryReader { geo in\n",
    "                            gameOverView\n",
    "                                .frame(width: geo.size.width, height: geo.size.height)\n",
    "                        }\n",
    "                    } else {\n",
    "                        gameView\n",
    "                    }\n",
    "                }\n",
    "            }"
   ]
  },
  {
   "cell_type": "markdown",
   "id": "7b305d8f-dacb-47eb-9180-c615f6e8dd91",
   "metadata": {},
   "source": [
    "I crafted a title screen with the same care and attention a cat gives to knocking things off a table. Effortlessly, obviously.\n",
    "\n",
    "Chapter 4: \"Game Over, Man. Game Over!\"\n",
    "\n",
    "The game had to end somehow, and not just with me questioning my life choices. So, a game-over screen was born, popping up with all the gentleness of a jack-in-the-box set to a timer."
   ]
  },
  {
   "cell_type": "code",
   "execution_count": null,
   "id": "7530037f-a929-480b-ab1d-250814973237",
   "metadata": {},
   "outputs": [],
   "source": [
    "private var gameOverView: some View {\n",
    "        VStack {\n",
    "            Text(\"Game Over\")\n",
    "                .font(.largeTitle)\n",
    "            Text(\"You matched all the cards with \\(timeRemaining) seconds remaining!\")\n",
    "                .font(.headline)\n",
    "            Button(\"Play Again\") {\n",
    "                resetGame()\n",
    "            }\n",
    "            .padding()\n",
    "            .background(Color.blue)\n",
    "            .foregroundColor(.white)\n",
    "            .cornerRadius(10)\n",
    "        }\n",
    "    }"
   ]
  },
  {
   "cell_type": "markdown",
   "id": "9bc0a52e-87e8-4edb-b4eb-75245ab967b9",
   "metadata": {},
   "source": [
    "And, like any good gamer, I included a \"Play Again\" button because, let's face it, we're all gluttons for punishment.\n",
    "\n",
    "Epilogue: \"Reflections and Regrets\"\n",
    "\n",
    "Looking back, creating \"ololi\" was a journey of self-discovery, frustration, and an absurd amount of Googling. Would I do it again? In a heartbeat. After all, there's something magical about bringing a bunch of pixels to life and watching as they frustrate and delight people in equal measure.\n",
    "\n",
    "So, there you have it. My spring break, encapsulated in a game about matching fruit emojis. Who needs internships when you have SwiftUI and a stubborn refusal to do anything remotely productive?\n",
    "\n",
    "Well me... I need an internship. And hopefully, despite my frustration with how Xcode differs from literally every other development platform I have used, this experience has taught me something about software development. I hope to keep working on this app, as it is far from perfect. \n",
    "\n",
    "It's almost human in that way... \n",
    "Too human...\n",
    "\n",
    "In all seriousness this project has taught me some useful skills I hope to use in future schemes, hopefully incorporating my earlier Russian Verb ML Classifier model. Of course I would likely have to tackle Apple's CreateML tool, which will be a tale for another day..."
   ]
  }
 ],
 "metadata": {
  "kernelspec": {
   "display_name": "Python 3 (ipykernel)",
   "language": "python",
   "name": "python3"
  },
  "language_info": {
   "codemirror_mode": {
    "name": "ipython",
    "version": 3
   },
   "file_extension": ".py",
   "mimetype": "text/x-python",
   "name": "python",
   "nbconvert_exporter": "python",
   "pygments_lexer": "ipython3",
   "version": "3.9.13"
  }
 },
 "nbformat": 4,
 "nbformat_minor": 5
}
