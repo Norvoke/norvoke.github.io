{
 "cells": [
  {
   "cell_type": "raw",
   "id": "cf09fbed-91c7-4e78-b5d5-da183eacf9df",
   "metadata": {},
   "source": [
    "---\n",
    "title: Timnit Gebru and Modern Ethics in AI\n",
    "author: Finn Ellingwood\n",
    "date: '2023-04-19'\n",
    "image: \"image.jpg\"\n",
    "description: \"Finn's quick look at Timnit Gebru's views on the current situation of ethics in AI.\"\n",
    "format: html\n",
    "---"
   ]
  },
  {
   "cell_type": "markdown",
   "id": "322077fd-dd86-46b0-8b29-b5bb113203a7",
   "metadata": {
    "tags": []
   },
   "source": [
    "# Problems with AI and You:\n",
    "### AI Superstar Timnit Gebru on Ethics in AI and Why We Need to Care"
   ]
  },
  {
   "cell_type": "markdown",
   "id": "a427ecda-5920-4a49-934a-76bc3322c667",
   "metadata": {},
   "source": [
    "\n",
    "\n"
   ]
  },
  {
   "cell_type": "markdown",
   "id": "67a33336-9cc1-448e-8784-a92c18d9ba9f",
   "metadata": {},
   "source": [
    "<img src=\"gebru.png\" style=\"width:35%\" title=\"Gebru in 2020\" alt=\"Photo courtesy of Gebru\">"
   ]
  },
  {
   "cell_type": "markdown",
   "id": "cc2054ff-4d25-4fce-b6e3-49358dacc9af",
   "metadata": {},
   "source": [
    "Introducing Dr. Timnit Gebru, the computer scientist extraordinaire! She's like the Hermione Granger of the AI world, except she's not fictional (and she's probably better at coding).\n",
    "\n",
    "Dr. Gebru is a superstar when it comes to algorithmic bias and data mining. She's the brains behind the Gender Shades study, which exposed the facial recognition software's tendency to overlook black women (seriously, what's up with that?). She's also the co-founder of Black in AI, an organization that's on a mission to get more black individuals involved in AI. You go, girl!"
   ]
  },
  {
   "cell_type": "markdown",
   "id": "691dfa31-9556-47ef-a731-808ee6a6c3c9",
   "metadata": {},
   "source": [
    ":::{.callout-note}\n",
    "\"technology is mostly being used to target the very people who are most vulnerable\" Gebru in her 2020 talk\n",
    "`Computer vision in practice: who is benefiting and who is being harmed?`\n",
    ":::"
   ]
  },
  {
   "cell_type": "markdown",
   "id": "5bd8b251-2b77-4c8d-b576-27b04d77ca40",
   "metadata": {},
   "source": [
    "Dr. Gebru is not just smart, she's also sassy. She doesn't shy away from speaking up about the ethical and social implications of AI. In fact, according to her Wikipedia page (which is known for its authentic journalism), she left her job at Google because they wanted her to take her unpublished paper and shove it where the sun don't shine. (Just kidding, they just wanted her to remove some names. But still, it was a big deal.)\n",
    "\n",
    "Speaking of ethical concerns, let's talk about ChatGPT. Middlebury College, like many other institutions, has yet to establish a campus-wide policy regarding the use of ChatGPT and other AI tools. This means that professors are free to use ChatGPT if they want to, which is kind of like giving your students a genie in a bottle (except instead of wishes, they get answers to their essays).\n",
    "\n",
    "However, ChatGPT comes with its own set of problems. For example, the premium version gives students who can afford it an unfair advantage. And let's not forget that ChatGPT is trained on a whole lot of language data, which includes some pretty nasty stuff. Developers try to filter out the biased stuff, but it still seeps through. Just like that one drop of ketchup that always ends up on your white shirt.\n",
    "\n",
    "So what did Dr. Gebru have to say about all of this? Well, she talked about the reliability (or lack thereof) of computer vision technology. Turns out, those facial recognition tools aren't as accurate as we thought. In fact, they're pretty biased. And when they're used to judge people's personalities and emotions (yes, that's a thing), it perpetuates structural racism. Oh, and don't get her started on Faception, which singles out people from marginalized groups as terrorists. Not cool, Faception.\n",
    "\n",
    "Dr. Gebru also talked about the lack of diversity in datasets. It's a big problem because it leads to a high disparity in facial recognition results. And even when companies do try to gather diverse information, they end up doing it unethically. It's like they're playing Pokemon, except instead of catching them all, they're catching all the darker skin images and scraping images of transgender YouTubers without their consent.\n",
    "\n",
    "But here's the thing: technology is not always used in the way it's designed. Sometimes it leads to more discrimination and problems than efficiency. So Dr. Gebru suggested that we need to think beyond diversity in datasets and consider structural and real representation. We need to make sure that panels aren't just filled with people from dominant groups and those closest to money. Because fairness isn't just about math, it's about society.\n",
    "\n",
    "So, what do you think, as some questions for the reader:\n",
    "Should we prohibit or regulate the use of facial recognition on people? And how can computer vision technology help marginalized communities? We're all ears!"
   ]
  },
  {
   "cell_type": "code",
   "execution_count": null,
   "id": "36ea580a-525a-404e-b77a-a0a31a549595",
   "metadata": {},
   "outputs": [],
   "source": []
  }
 ],
 "metadata": {
  "kernelspec": {
   "display_name": "Python 3 (ipykernel)",
   "language": "python",
   "name": "python3"
  },
  "language_info": {
   "codemirror_mode": {
    "name": "ipython",
    "version": 3
   },
   "file_extension": ".py",
   "mimetype": "text/x-python",
   "name": "python",
   "nbconvert_exporter": "python",
   "pygments_lexer": "ipython3",
   "version": "3.9.13"
  }
 },
 "nbformat": 4,
 "nbformat_minor": 5
}
